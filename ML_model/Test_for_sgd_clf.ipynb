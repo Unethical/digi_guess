{
 "cells": [
  {
   "cell_type": "code",
   "execution_count": 13,
   "metadata": {},
   "outputs": [
    {
     "name": "stdout",
     "output_type": "stream",
     "text": [
      "The model predicted: [ 3.]\n",
      "The real label is: 3.0\n"
     ]
    }
   ],
   "source": [
    "from sklearn.datasets import fetch_mldata\n",
    "from sklearn.linear_model import SGDClassifier\n",
    "import pickle\n",
    "\n",
    "#get the dataset from sklearn there are 70000 data points\n",
    "mnist = fetch_mldata('MNIST original')\n",
    "X, y = mnist[\"data\"], mnist[\"target\"]\n",
    "#X = digits, y = labels\n",
    "\n",
    "#import the pickle ML model\n",
    "sgd_clf = pickle.load(open(\"sgd_clf_trained_MNIST.pickle\", \"rb\"))\n",
    "\n",
    "#only index 0 - 69999\n",
    "def printDigitLabel(digitIndex):\n",
    "    print(\"The real label is: {}\".format(y[digitIndex]))\n",
    "\n",
    "digit_to_predict = 63334\n",
    "    \n",
    "#the reshape is just something to avoid a deprication warning\n",
    "predictedLabel = sgd_clf.predict(X[digit_to_predict].reshape(1,-1))\n",
    "print(\"The model predicted: {}\".format(predictedLabel))\n",
    "printDigitLabel(digit_to_predict)"
   ]
  },
  {
   "cell_type": "code",
   "execution_count": null,
   "metadata": {
    "collapsed": true
   },
   "outputs": [],
   "source": []
  }
 ],
 "metadata": {
  "kernelspec": {
   "display_name": "Python 3",
   "language": "python",
   "name": "python3"
  },
  "language_info": {
   "codemirror_mode": {
    "name": "ipython",
    "version": 3
   },
   "file_extension": ".py",
   "mimetype": "text/x-python",
   "name": "python",
   "nbconvert_exporter": "python",
   "pygments_lexer": "ipython3",
   "version": "3.6.1"
  }
 },
 "nbformat": 4,
 "nbformat_minor": 2
}
